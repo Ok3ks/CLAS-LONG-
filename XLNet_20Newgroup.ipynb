{
  "cells": [
    {
      "cell_type": "code",
      "execution_count": null,
      "metadata": {
        "id": "ls4hh0XSKcer"
      },
      "outputs": [],
      "source": [
        "%pip install transformers \n",
        "%pip install sklearn\n",
        "%pip install datasets\n",
        "%pip install SentencePiece"
      ]
    },
    {
      "cell_type": "code",
      "execution_count": null,
      "metadata": {
        "id": "J0IS6HBzs9JP"
      },
      "outputs": [],
      "source": [
        "from transformers import XLNetForSequenceClassification, AutoTokenizer, Trainer, TrainingArguments,DataCollatorWithPadding\n",
        "from datasets import load_dataset, load_metric,Dataset\n",
        "import torch\n",
        "import numpy as np\n",
        "from datasets import load_dataset\n",
        "from utils import PrepareCorpus,AssessData\n",
        "from sklearn.model_selection import train_test_split\n",
        "from datasets import Dataset,load_dataset\n",
        "import json\n",
        "from sklearn.model_selection import KFold"
      ]
    },
    {
      "cell_type": "markdown",
      "metadata": {
        "id": "Awi2UMSRKJGa"
      },
      "source": [
        "20 NEWSGROUP"
      ]
    },
    {
      "cell_type": "code",
      "execution_count": null,
      "metadata": {
        "colab": {
          "base_uri": "https://localhost:8080/"
        },
        "id": "5ERkFDQzYuva",
        "outputId": "2345d0af-0db6-40ee-b86c-ac9db0c4de4b"
      },
      "outputs": [
        {
          "output_type": "stream",
          "name": "stdout",
          "text": [
            "Drive already mounted at /content/drive; to attempt to forcibly remount, call drive.mount(\"/content/drive\", force_remount=True).\n"
          ]
        }
      ],
      "source": [
        "from google.colab import drive\n",
        "drive.mount('/content/drive')"
      ]
    },
    {
      "cell_type": "code",
      "execution_count": null,
      "metadata": {
        "id": "JcZlwCaWKJGa"
      },
      "outputs": [],
      "source": [
        "parentdir = \"/content/drive/MyDrive/ML/Datasets/20News\"\n",
        "\n",
        "train =parentdir+\"/20news-bydate\"+\"/20news-bydate-train\"\n",
        "test = parentdir+\"/20news-bydate\"+ \"/20news-bydate-test\""
      ]
    },
    {
      "cell_type": "code",
      "source": [
        "xlnet_tokenizer = AutoTokenizer.from_pretrained(\"xlnet-base-cased\")\n",
        "xlnet_model = XLNetForSequenceClassification.from_pretrained(\"xlnet-base-cased\", num_labels = 20)"
      ],
      "metadata": {
        "id": "ihZ7ks9l88za"
      },
      "execution_count": null,
      "outputs": []
    },
    {
      "cell_type": "code",
      "execution_count": null,
      "metadata": {
        "id": "MJ72ltJt81QA"
      },
      "outputs": [],
      "source": [
        "id2labels = {'talk.politics.mideast': 0, 'rec.autos': 1, 'comp.sys.mac.hardware': 2, 'alt.atheism': 3, 'rec.sport.baseball': 4, 'comp.os.ms-windows.misc': 5, 'rec.sport.hockey': 6, 'sci.crypt': 7, 'sci.med': 8, 'talk.politics.misc': 9, 'rec.motorcycles': 10, 'comp.windows.x': 11, 'comp.graphics': 12, 'comp.sys.ibm.pc.hardware': 13, 'sci.electronics': 14, 'talk.politics.guns': 15, 'sci.space': 16, 'soc.religion.christian': 17, 'misc.forsale': 18, 'talk.religion.misc': 19}\n",
        "id2classes = {'talk.politics.mideast': 0, 'rec.autos': 4, 'comp.sys.mac.hardware': 2, 'alt.atheism': 5, 'rec.sport.baseball': 1, 'comp.os.ms-windows.misc': 2, 'rec.sport.hockey': 1, 'sci.crypt': 3, 'sci.med': 3, 'talk.politics.misc': 0, 'rec.motorcycles': 4, 'comp.windows.x': 2, 'comp.graphics': 2, 'comp.sys.ibm.pc.hardware': 2, 'sci.electronics': 3, 'talk.politics.guns': 0, 'sci.space': 3, 'soc.religion.christian': 5, 'misc.forsale': 6, 'talk.religion.misc': 5}\n",
        "\n",
        "number = range(50,150,50)\n",
        "_per_segment = range(200,400,100)\n",
        "\n",
        "overlap = {\"side\":\"both\", \"number\": 50}\n",
        "\n",
        "f1_score = load_metric(\"f1\"); precision = load_metric(\"precision\"); recall = load_metric(\"recall\")\n",
        "\n",
        "def tokenize(batch):\n",
        "    return xlnet_tokenizer(batch['text'], truncation=True,padding = True)\n",
        "\n",
        "def compute_metrics(eval_pred):\n",
        "    predictions, label = eval_pred\n",
        "    predictions = np.argmax(predictions, axis = 1)\n",
        "    return {\"f1\" :f1_score.compute(predictions = predictions, references = label, average = 'weighted'),\n",
        "            \"precision\" : precision.compute(predictions = predictions, references = label, average = 'weighted'),\n",
        "            \"recall\": recall.compute(predictions = predictions, references = label, average = 'weighted')}\n",
        "\n",
        "def hp_space(trial):\n",
        "  return {\"per_device_train_batch_size\": trial.suggest_discrete_uniform(\"per_device_train_batch_size\", 8,32,8)\n",
        "        ,\"learning_rate\": trial.suggest_float(\"learning_rate\", 0.00001,0.00005, log = True)\n",
        "        ,\"num_train_epochs\": trial.suggest_int(\"num_train_epochs\",1,10)}\n",
        "\n",
        "def xlnet_init():\n",
        "  return XLNetForSequenceClassification.from_pretrained(\"xlnet-base-cased\", num_labels = 20)\n",
        "\n",
        "def id_2_labels(x,adict):\n",
        "  \"\"\"converts labels/classes into a number using a dictionary\"\"\"\n",
        "  return adict[x]\n",
        "\n",
        "def _indexing(alist):\n",
        "  id = 0; indexed = {}\n",
        "  for x in alist:\n",
        "    for y in x:\n",
        "      id +=1\n",
        "      indexed[id] = y\n",
        "  return indexed\n",
        "  "
      ]
    },
    {
      "cell_type": "code",
      "execution_count": null,
      "metadata": {
        "id": "bP89tXq3KJGa"
      },
      "outputs": [],
      "source": [
        "news_group_train = PrepareCorpus(train)\n",
        "news_group_test = PrepareCorpus(test)"
      ]
    },
    {
      "cell_type": "code",
      "execution_count": null,
      "metadata": {
        "id": "2HVg8HU7KJGb"
      },
      "outputs": [],
      "source": [
        "news_group_test = news_group_test._prep()       #Keys are labels, values are texts\n",
        "news_group_train = news_group_train._prep()"
      ]
    },
    {
      "cell_type": "markdown",
      "metadata": {
        "id": "Yoj9RlUgYWZX"
      },
      "source": [
        "SELECTING TWO CLASSES"
      ]
    },
    {
      "cell_type": "code",
      "execution_count": null,
      "metadata": {
        "id": "_sJMCTYeYhyZ"
      },
      "outputs": [],
      "source": [
        "#Selecting politics.mideast, politics.misc and sport.baseball, sport.hockey\n",
        "labels = ['talk.politics.mideast', 'talk.politics.misc', 'talk.politics.guns', 'rec.sport.baseball','rec.sport.hockey']\n",
        "\n",
        "temp_train = []; temp_test = []\n",
        "temp_news_group_train = {}; temp_news_group_test = {}\n",
        "\n",
        "for item in labels:\n",
        "  temp_news_group_train[item] = news_group_train.get(item)\n",
        "  temp_news_group_test[item] = news_group_test.get(item)\n",
        "\n",
        "temp_train = _indexing(temp_news_group_train.values())\n",
        "temp_test =  _indexing(temp_news_group_test.values())\n",
        "\n",
        "temp_train_corpus = AssessData(temp_train, temp_news_group_train)\n",
        "temp_test_corpus = AssessData(temp_test, temp_news_group_test)"
      ]
    },
    {
      "cell_type": "code",
      "execution_count": null,
      "metadata": {
        "id": "aqBQcAq7jNYn",
        "colab": {
          "base_uri": "https://localhost:8080/"
        },
        "outputId": "03ec7d35-fd2b-4fed-d7a8-147a69ebfcda"
      },
      "outputs": [
        {
          "output_type": "execute_result",
          "data": {
            "text/plain": [
              "utils.AssessData"
            ]
          },
          "metadata": {},
          "execution_count": 11
        }
      ],
      "source": [
        "type(temp_train_corpus)"
      ]
    },
    {
      "cell_type": "code",
      "execution_count": null,
      "metadata": {
        "id": "5_XLZmXrguIc"
      },
      "outputs": [],
      "source": [
        "temp_train_index_to_label = temp_train_corpus._index_to_label() \n",
        "temp_test_index_to_label = temp_test_corpus._index_to_label()"
      ]
    },
    {
      "cell_type": "code",
      "execution_count": null,
      "metadata": {
        "id": "e_DyXiB2glH3"
      },
      "outputs": [],
      "source": [
        "temp_train_index_to_label = {i:id_2_labels(x,id2classes) for i,x in temp_train_index_to_label.items()}\n",
        "temp_test_index_to_label = {i:id_2_labels(x,id2classes) for i,x in temp_test_index_to_label.items()}"
      ]
    },
    {
      "cell_type": "code",
      "execution_count": null,
      "metadata": {
        "id": "_nIFshO8iUhj",
        "colab": {
          "base_uri": "https://localhost:8080/"
        },
        "outputId": "62dbb975-c92a-48c4-a79f-567a8e9195e2"
      },
      "outputs": [
        {
          "output_type": "execute_result",
          "data": {
            "text/plain": [
              "{0, 1}"
            ]
          },
          "metadata": {},
          "execution_count": 14
        }
      ],
      "source": [
        "set(temp_train_index_to_label.values())"
      ]
    },
    {
      "cell_type": "code",
      "execution_count": null,
      "metadata": {
        "id": "X_1ZevpWioiy"
      },
      "outputs": [],
      "source": [
        "temp_train_set = temp_train_corpus._chunk(200, overlap=overlap)\n",
        "temp_train_index, temp_train_text = zip(*temp_train_set)\n",
        "\n",
        "temp_test_set = temp_test_corpus._chunk(200, overlap=overlap)\n",
        "test_index, test_text = zip(*temp_test_set)"
      ]
    },
    {
      "cell_type": "code",
      "execution_count": null,
      "metadata": {
        "id": "5FJ7JVXooVOC"
      },
      "outputs": [],
      "source": [
        "frac_train_set = {\"train\" : {\"text\": temp_train.values(), 'doc_id': temp_train_index_to_label.keys(), 'labels': temp_train_index_to_label.values()}}\n",
        "frac_test_set =  {\"test\" : {\"text\": temp_test.values(), 'doc_id': temp_test_index_to_label.keys(), 'labels': temp_test_index_to_label.values()}}"
      ]
    },
    {
      "cell_type": "code",
      "execution_count": null,
      "metadata": {
        "id": "2f1YOGZXpqA0"
      },
      "outputs": [],
      "source": [
        "frac_train_set = Dataset.from_dict(frac_train_set['train'])\n",
        "frac_test_set = Dataset.from_dict(frac_test_set['test'])"
      ]
    },
    {
      "cell_type": "code",
      "execution_count": null,
      "metadata": {
        "id": "yAoEtnC0qC4g",
        "colab": {
          "base_uri": "https://localhost:8080/",
          "height": 99,
          "referenced_widgets": [
            "7d2d864dfbd64292bcc9f35bed0b92f8",
            "7adb279ac9c6498684de8d4fff145f65",
            "9d23fd51ad64403ebbe7ba2efb38ff7a",
            "42ffec00af3d461694a19f4045905626",
            "6aee2f943fc84f2c9736462afd2cd32b",
            "6bb4a9bb2f974517b70a473148e7d101",
            "906a7e8220f14175ade8634c73f7a03c",
            "dba581a9ef9442d081e83d07b96e6a13",
            "ec0aba9a7a0243e2b14630af2a377fc5",
            "6ecb8feb8ec9434db2e669455c6d86db",
            "3b1fd69fd6a8473da942aad66e572bce",
            "d01961f4eeca4983a0b26a90d739fa04",
            "2726aee5759c4b71a628889961d016e8",
            "b06ea49921be4f51848a6b9860d28ab1",
            "c0d882fe6fbd4af59c9fb330c7397c23",
            "8b0f4092da0c4377982908296710bfba",
            "8a4abe92315a40e8a27e6f0c31845497",
            "dfc86d31b1cb46bd872db2429eab2494",
            "83ad39d5d9684392a6bef5d781dcfc54",
            "dc506fa082c240d79306c25227ffbba1",
            "c0e10085124d49f2b39544ef9ee3420f",
            "89f6bcd0790c47c5b841fc466eac7cd5"
          ]
        },
        "outputId": "6e34a0a4-8acf-4ee6-c1d3-ea97fe90dcc1"
      },
      "outputs": [
        {
          "output_type": "display_data",
          "data": {
            "text/plain": [
              "  0%|          | 0/2772 [00:00<?, ?ex/s]"
            ],
            "application/vnd.jupyter.widget-view+json": {
              "version_major": 2,
              "version_minor": 0,
              "model_id": "7d2d864dfbd64292bcc9f35bed0b92f8"
            }
          },
          "metadata": {}
        },
        {
          "output_type": "stream",
          "name": "stderr",
          "text": [
            "Asking to truncate to max_length but no maximum length is provided and the model has no predefined maximum length. Default to no truncation.\n"
          ]
        },
        {
          "output_type": "display_data",
          "data": {
            "text/plain": [
              "  0%|          | 0/1846 [00:00<?, ?ex/s]"
            ],
            "application/vnd.jupyter.widget-view+json": {
              "version_major": 2,
              "version_minor": 0,
              "model_id": "d01961f4eeca4983a0b26a90d739fa04"
            }
          },
          "metadata": {}
        }
      ],
      "source": [
        "frac_train_set = frac_train_set.map(tokenize)\n",
        "frac_test_set = frac_test_set.map(tokenize)\n",
        "\n",
        "frac_train_set = frac_train_set.shuffle(seed = 24)\n",
        "frac_test_set = frac_test_set.shuffle(seed = 24)"
      ]
    },
    {
      "cell_type": "code",
      "execution_count": null,
      "metadata": {
        "id": "jojHznX5yDFd",
        "colab": {
          "base_uri": "https://localhost:8080/"
        },
        "outputId": "6041f2c1-c0bf-4cee-fa1d-01234cd5104a"
      },
      "outputs": [
        {
          "output_type": "execute_result",
          "data": {
            "text/plain": [
              "Dataset({\n",
              "    features: ['text', 'doc_id', 'labels', 'input_ids', 'token_type_ids', 'attention_mask'],\n",
              "    num_rows: 1846\n",
              "})"
            ]
          },
          "metadata": {},
          "execution_count": 19
        }
      ],
      "source": [
        "frac_test_set"
      ]
    },
    {
      "cell_type": "code",
      "execution_count": null,
      "metadata": {
        "id": "s6_10GUJqYNF"
      },
      "outputs": [],
      "source": [
        "fold = KFold(n_splits = 5)\n",
        "this_set = fold.split(frac_train_set['text'])\n",
        "\n",
        "frac_fold_train = []; frac_fold_eval = []\n",
        "\n",
        "for i,j in this_set:\n",
        "  frac_fold_train.append(frac_train_set.select(i))\n",
        "  frac_fold_eval.append(frac_train_set.select(j))"
      ]
    },
    {
      "cell_type": "code",
      "execution_count": null,
      "metadata": {
        "id": "TwEB6whHruAN"
      },
      "outputs": [],
      "source": [
        "data_collator = DataCollatorWithPadding(tokenizer=xlnet_tokenizer, max_length= 300)\n",
        "\n",
        "#default training arguments \n",
        "training_args = TrainingArguments(output_dir=\"./frac_results\", learning_rate=2e-5, per_device_train_batch_size=16, per_device_eval_batch_size=16, num_train_epochs=5,weight_decay=0.01)\n",
        "results = []\n",
        "\n",
        "#fine-tune\n",
        "trainer = Trainer(model = model, \n",
        "                args = training_args,\n",
        "                train_dataset= frac_fold_train[0],\n",
        "                eval_dataset= frac_fold_eval[0],\n",
        "                tokenizer= tokenizer,\n",
        "                data_collator=data_collator,\n",
        "                compute_metrics= compute_metrics)\n",
        "\n",
        "trainer.train()"
      ]
    },
    {
      "cell_type": "code",
      "execution_count": null,
      "metadata": {
        "id": "s7zVcmSM0woG"
      },
      "outputs": [],
      "source": [
        "trainer_1 = Trainer(model = bert_model, \n",
        "                args = training_args,\n",
        "                train_dataset= frac_fold_train[1],\n",
        "                eval_dataset= frac_fold_eval[1],\n",
        "                tokenizer= bert_tokenizer,\n",
        "                data_collator=data_collator,\n",
        "                compute_metrics= compute_metrics)\n",
        "\n",
        "trainer_1.train()"
      ]
    },
    {
      "cell_type": "code",
      "execution_count": null,
      "metadata": {
        "id": "Vw9NYW5j08yc"
      },
      "outputs": [],
      "source": [
        "trainer_1.evaluate()"
      ]
    },
    {
      "cell_type": "code",
      "execution_count": null,
      "metadata": {
        "id": "VfZmhSsr0_Hq"
      },
      "outputs": [],
      "source": [
        "trainer_2 = Trainer(model = bert_model, \n",
        "                args = training_args,\n",
        "                train_dataset= frac_fold_train[2],\n",
        "                eval_dataset= frac_fold_eval[2],\n",
        "                tokenizer= bert_tokenizer,\n",
        "                data_collator=data_collator,\n",
        "                compute_metrics= compute_metrics)\n",
        "\n",
        "trainer_2.train()"
      ]
    },
    {
      "cell_type": "code",
      "execution_count": null,
      "metadata": {
        "id": "5AE0Bv1D1DHZ"
      },
      "outputs": [],
      "source": [
        "trainer_2.evaluate()"
      ]
    },
    {
      "cell_type": "code",
      "execution_count": null,
      "metadata": {
        "id": "4zrE0axd2mb5"
      },
      "outputs": [],
      "source": [
        "trainer_3 = Trainer(model = bert_model, \n",
        "                args = training_args,\n",
        "                train_dataset= frac_fold_train[3],\n",
        "                eval_dataset= frac_fold_eval[3],\n",
        "                tokenizer= bert_tokenizer,\n",
        "                data_collator=data_collator,\n",
        "                compute_metrics= compute_metrics)\n",
        "\n",
        "trainer_3.train()"
      ]
    },
    {
      "cell_type": "code",
      "execution_count": null,
      "metadata": {
        "id": "UxeCRtu82qij"
      },
      "outputs": [],
      "source": [
        "trainer_3.evaluate()"
      ]
    },
    {
      "cell_type": "code",
      "execution_count": null,
      "metadata": {
        "id": "ka_ODeop2ugv"
      },
      "outputs": [],
      "source": [
        "trainer_4 = Trainer(model = bert_model, \n",
        "                args = training_args,\n",
        "                train_dataset= frac_fold_train[3],\n",
        "                eval_dataset= frac_fold_eval[3],\n",
        "                tokenizer= bert_tokenizer,\n",
        "                data_collator=data_collator,\n",
        "                compute_metrics= compute_metrics)\n",
        "\n",
        "trainer_4.train()"
      ]
    },
    {
      "cell_type": "code",
      "execution_count": null,
      "metadata": {
        "id": "H706tgya2xqm"
      },
      "outputs": [],
      "source": [
        "trainer_4.evaluate()"
      ]
    },
    {
      "cell_type": "code",
      "execution_count": null,
      "metadata": {
        "id": "7rvjnMCCx0fW"
      },
      "outputs": [],
      "source": [
        "trainer.predict(frac_test_set)"
      ]
    },
    {
      "cell_type": "markdown",
      "metadata": {
        "id": "VGIklFxpgqmI"
      },
      "source": [
        "FULL TRAIN AND TEST DATA"
      ]
    },
    {
      "cell_type": "code",
      "execution_count": null,
      "metadata": {
        "id": "7RAA-GR6KJGb"
      },
      "outputs": [],
      "source": [
        "#Full train and test data\n",
        "\n",
        "train_list_of_strings = _indexing(news_group_train.values())\n",
        "test_list_of_strings = _indexing(news_group_test.values())\n",
        "\n",
        "train_corpus = AssessData(train_list_of_strings, news_group_train)\n",
        "test_corpus = AssessData(test_list_of_strings, news_group_test)"
      ]
    },
    {
      "cell_type": "code",
      "execution_count": null,
      "metadata": {
        "id": "_seuBe1pkROW"
      },
      "outputs": [],
      "source": [
        "train_index_to_label = train_corpus._index_to_label() \n",
        "test_index_to_label = test_corpus._index_to_label()"
      ]
    },
    {
      "cell_type": "code",
      "execution_count": null,
      "metadata": {
        "id": "Bv2Hwi_ODaNe"
      },
      "outputs": [],
      "source": [
        "train_list_of_strings"
      ]
    },
    {
      "cell_type": "code",
      "execution_count": null,
      "metadata": {
        "id": "W1lPqOTiQEuz"
      },
      "outputs": [],
      "source": [
        "len(set(train_index_to_label.keys()))"
      ]
    },
    {
      "cell_type": "code",
      "execution_count": null,
      "metadata": {
        "id": "_KNUhcFrPmLo"
      },
      "outputs": [],
      "source": [
        "import nltk\n",
        "nltk.download('punkt')"
      ]
    },
    {
      "cell_type": "code",
      "execution_count": null,
      "metadata": {
        "id": "lAYhTZOzL3-Z"
      },
      "outputs": [],
      "source": [
        "test_index = {a:x-1 for a,x in enumerate(test_index)}\n",
        "test_text = {a:x for a,x in enumerate(test_text)}"
      ]
    },
    {
      "cell_type": "code",
      "execution_count": null,
      "metadata": {
        "id": "5_-7o466livv"
      },
      "outputs": [],
      "source": [
        "train_chunked_label = {i:id_2_labels(x,train_index_to_label) for i,x in train_index.items()}\n",
        "test_chunked_label = {i:id_2_labels(x,train_index_to_label) for i,x in test_index.items()}"
      ]
    },
    {
      "cell_type": "code",
      "source": [
        "len(train_index.values()), len(train_text.values()), len(train_chunked_label.values())"
      ],
      "metadata": {
        "id": "lPX1BSMtcYuA"
      },
      "execution_count": null,
      "outputs": []
    },
    {
      "cell_type": "code",
      "execution_count": null,
      "metadata": {
        "id": "ObjQIeKcSD3t"
      },
      "outputs": [],
      "source": [
        "train = [xlnet_tokenizer(x) for x in train_list_of_strings.values()]"
      ]
    },
    {
      "cell_type": "code",
      "source": [
        "new_train = {i:x for i,x in enumerate(train)}"
      ],
      "metadata": {
        "id": "PBQv1fS5HwCD"
      },
      "execution_count": null,
      "outputs": []
    },
    {
      "cell_type": "code",
      "source": [
        "test = [xlnet_tokenizer(x) for x in test_list_of_strings.values()]"
      ],
      "metadata": {
        "id": "Svti8CpfFwv1"
      },
      "execution_count": null,
      "outputs": []
    },
    {
      "cell_type": "code",
      "source": [
        "new_test = {i:x for i,x in enumerate(test)}"
      ],
      "metadata": {
        "id": "hYBpFLnbIA69"
      },
      "execution_count": null,
      "outputs": []
    },
    {
      "cell_type": "code",
      "source": [
        "temp_train = pd.DataFrame(new_train.values())\n",
        "temp_test = pd.DataFrame(new_test.values())"
      ],
      "metadata": {
        "id": "O5vULVgIJ4ga"
      },
      "execution_count": null,
      "outputs": []
    },
    {
      "cell_type": "code",
      "execution_count": null,
      "metadata": {
        "id": "e_s4X-lwGS8z"
      },
      "outputs": [],
      "source": [
        "train_set = Dataset.from_pandas(temp_train)\n",
        "test_set = Dataset.from_pandas(temp_test)"
      ]
    },
    {
      "cell_type": "code",
      "source": [
        "train_set.add_column(\"doc_id\", new_train.keys())\n",
        "test_set.add_column('doc_id', new_test.keys())"
      ],
      "metadata": {
        "id": "DScWgXrWKaa2"
      },
      "execution_count": null,
      "outputs": []
    },
    {
      "cell_type": "code",
      "source": [
        "train = train.shuffle(seed = 30)\n",
        "test = test.shuffle(seed = 30)"
      ],
      "metadata": {
        "id": "AIlNERYbdeZC"
      },
      "execution_count": null,
      "outputs": []
    },
    {
      "cell_type": "code",
      "execution_count": null,
      "metadata": {
        "id": "7UAUTI1oW9Af"
      },
      "outputs": [],
      "source": [
        "from re import template\n",
        "from sklearn.model_selection import KFold\n",
        "\n",
        "fold = KFold(n_splits = 5)\n",
        "this_set = fold.split(train_set['input_ids'])\n",
        "\n",
        "fold_train = []\n",
        "fold_eval = []\n",
        "\n",
        "for i,j in this_set:\n",
        "  fold_train.append(train_set.select(i))\n",
        "  fold_eval.append(train_set.select(j))"
      ]
    },
    {
      "cell_type": "code",
      "source": [
        "%pip install optuna"
      ],
      "metadata": {
        "id": "uuN2CcTuke0G"
      },
      "execution_count": null,
      "outputs": []
    },
    {
      "cell_type": "code",
      "source": [
        "training_args = TrainingArguments(output_dir=\"./results_temp\", learning_rate=2e-5, per_device_train_batch_size=32, per_device_eval_batch_size=32, num_train_epochs=5,weight_decay=0.01)\n",
        "results = []\n",
        "\n",
        "max_input_length = 300\n",
        "\n",
        "data_collator = DataCollatorWithPadding(tokenizer=xlnet_tokenizer, padding = 'longest')\n",
        "xlnet_model = XLNetForSequenceClassification.from_pretrained(\"xlnet-base-cased\", num_labels = 20)\n",
        "\n",
        "result = {}\n",
        "\n",
        "#fine-tune\n",
        "\n",
        "trainer = Trainer(model = xlnet_model, \n",
        "                args = training_args,\n",
        "                train_dataset= fold_train[0],\n",
        "                eval_dataset= fold_eval[0],\n",
        "                tokenizer= xlnet_tokenizer,\n",
        "                data_collator=data_collator,\n",
        "                compute_metrics= compute_metrics)\n",
        "\n",
        "trainer.train()\n"
      ],
      "metadata": {
        "id": "HyU4szYnNgQA"
      },
      "execution_count": null,
      "outputs": []
    },
    {
      "cell_type": "code",
      "source": [
        "result "
      ],
      "metadata": {
        "colab": {
          "base_uri": "https://localhost:8080/"
        },
        "id": "FTN7xEezNuf9",
        "outputId": "8ffa3afd-fcb8-4570-d897-e5585cdcf49c"
      },
      "execution_count": null,
      "outputs": [
        {
          "output_type": "execute_result",
          "data": {
            "text/plain": [
              "{KFold(n_splits=5, random_state=None, shuffle=False): {'epoch': 5.0,\n",
              "  'eval_f1': {'f1': 0.934695986240775},\n",
              "  'eval_loss': 0.17530567944049835,\n",
              "  'eval_precision': {'precision': 0.9457526149958522},\n",
              "  'eval_recall': {'recall': 0.9325851363338347},\n",
              "  'eval_runtime': 301.1003,\n",
              "  'eval_samples_per_second': 86.114,\n",
              "  'eval_steps_per_second': 2.693}}"
            ]
          },
          "metadata": {},
          "execution_count": 37
        }
      ]
    },
    {
      "cell_type": "code",
      "source": [
        "with open(\"7_classes.json\", \"w\") as ins:\n",
        "  json.dump(result, ins)"
      ],
      "metadata": {
        "id": "ikp5XEyO4Dxr"
      },
      "execution_count": null,
      "outputs": []
    },
    {
      "cell_type": "code",
      "execution_count": null,
      "metadata": {
        "id": "zfSYx11e3LyK"
      },
      "outputs": [],
      "source": [
        "import json\n",
        "with open (\"eval_32_32\", \"w\") as out: \n",
        "  json.dump(eval_32_32, out)"
      ]
    }
  ],
  "metadata": {
    "colab": {
      "collapsed_sections": [],
      "provenance": []
    },
    "kernelspec": {
      "display_name": "Python 3",
      "language": "python",
      "name": "python3"
    },
    "language_info": {
      "codemirror_mode": {
        "name": "ipython",
        "version": 3
      },
      "file_extension": ".py",
      "mimetype": "text/x-python",
      "name": "python",
      "nbconvert_exporter": "python",
      "pygments_lexer": "ipython3",
      "version": "3.8.5"
    },
    "widgets": {
      "application/vnd.jupyter.widget-state+json": {
        "7d2d864dfbd64292bcc9f35bed0b92f8": {
          "model_module": "@jupyter-widgets/controls",
          "model_name": "HBoxModel",
          "model_module_version": "1.5.0",
          "state": {
            "_dom_classes": [],
            "_model_module": "@jupyter-widgets/controls",
            "_model_module_version": "1.5.0",
            "_model_name": "HBoxModel",
            "_view_count": null,
            "_view_module": "@jupyter-widgets/controls",
            "_view_module_version": "1.5.0",
            "_view_name": "HBoxView",
            "box_style": "",
            "children": [
              "IPY_MODEL_7adb279ac9c6498684de8d4fff145f65",
              "IPY_MODEL_9d23fd51ad64403ebbe7ba2efb38ff7a",
              "IPY_MODEL_42ffec00af3d461694a19f4045905626"
            ],
            "layout": "IPY_MODEL_6aee2f943fc84f2c9736462afd2cd32b"
          }
        },
        "7adb279ac9c6498684de8d4fff145f65": {
          "model_module": "@jupyter-widgets/controls",
          "model_name": "HTMLModel",
          "model_module_version": "1.5.0",
          "state": {
            "_dom_classes": [],
            "_model_module": "@jupyter-widgets/controls",
            "_model_module_version": "1.5.0",
            "_model_name": "HTMLModel",
            "_view_count": null,
            "_view_module": "@jupyter-widgets/controls",
            "_view_module_version": "1.5.0",
            "_view_name": "HTMLView",
            "description": "",
            "description_tooltip": null,
            "layout": "IPY_MODEL_6bb4a9bb2f974517b70a473148e7d101",
            "placeholder": "​",
            "style": "IPY_MODEL_906a7e8220f14175ade8634c73f7a03c",
            "value": "100%"
          }
        },
        "9d23fd51ad64403ebbe7ba2efb38ff7a": {
          "model_module": "@jupyter-widgets/controls",
          "model_name": "FloatProgressModel",
          "model_module_version": "1.5.0",
          "state": {
            "_dom_classes": [],
            "_model_module": "@jupyter-widgets/controls",
            "_model_module_version": "1.5.0",
            "_model_name": "FloatProgressModel",
            "_view_count": null,
            "_view_module": "@jupyter-widgets/controls",
            "_view_module_version": "1.5.0",
            "_view_name": "ProgressView",
            "bar_style": "success",
            "description": "",
            "description_tooltip": null,
            "layout": "IPY_MODEL_dba581a9ef9442d081e83d07b96e6a13",
            "max": 2772,
            "min": 0,
            "orientation": "horizontal",
            "style": "IPY_MODEL_ec0aba9a7a0243e2b14630af2a377fc5",
            "value": 2772
          }
        },
        "42ffec00af3d461694a19f4045905626": {
          "model_module": "@jupyter-widgets/controls",
          "model_name": "HTMLModel",
          "model_module_version": "1.5.0",
          "state": {
            "_dom_classes": [],
            "_model_module": "@jupyter-widgets/controls",
            "_model_module_version": "1.5.0",
            "_model_name": "HTMLModel",
            "_view_count": null,
            "_view_module": "@jupyter-widgets/controls",
            "_view_module_version": "1.5.0",
            "_view_name": "HTMLView",
            "description": "",
            "description_tooltip": null,
            "layout": "IPY_MODEL_6ecb8feb8ec9434db2e669455c6d86db",
            "placeholder": "​",
            "style": "IPY_MODEL_3b1fd69fd6a8473da942aad66e572bce",
            "value": " 2772/2772 [00:08&lt;00:00, 402.72ex/s]"
          }
        },
        "6aee2f943fc84f2c9736462afd2cd32b": {
          "model_module": "@jupyter-widgets/base",
          "model_name": "LayoutModel",
          "model_module_version": "1.2.0",
          "state": {
            "_model_module": "@jupyter-widgets/base",
            "_model_module_version": "1.2.0",
            "_model_name": "LayoutModel",
            "_view_count": null,
            "_view_module": "@jupyter-widgets/base",
            "_view_module_version": "1.2.0",
            "_view_name": "LayoutView",
            "align_content": null,
            "align_items": null,
            "align_self": null,
            "border": null,
            "bottom": null,
            "display": null,
            "flex": null,
            "flex_flow": null,
            "grid_area": null,
            "grid_auto_columns": null,
            "grid_auto_flow": null,
            "grid_auto_rows": null,
            "grid_column": null,
            "grid_gap": null,
            "grid_row": null,
            "grid_template_areas": null,
            "grid_template_columns": null,
            "grid_template_rows": null,
            "height": null,
            "justify_content": null,
            "justify_items": null,
            "left": null,
            "margin": null,
            "max_height": null,
            "max_width": null,
            "min_height": null,
            "min_width": null,
            "object_fit": null,
            "object_position": null,
            "order": null,
            "overflow": null,
            "overflow_x": null,
            "overflow_y": null,
            "padding": null,
            "right": null,
            "top": null,
            "visibility": null,
            "width": null
          }
        },
        "6bb4a9bb2f974517b70a473148e7d101": {
          "model_module": "@jupyter-widgets/base",
          "model_name": "LayoutModel",
          "model_module_version": "1.2.0",
          "state": {
            "_model_module": "@jupyter-widgets/base",
            "_model_module_version": "1.2.0",
            "_model_name": "LayoutModel",
            "_view_count": null,
            "_view_module": "@jupyter-widgets/base",
            "_view_module_version": "1.2.0",
            "_view_name": "LayoutView",
            "align_content": null,
            "align_items": null,
            "align_self": null,
            "border": null,
            "bottom": null,
            "display": null,
            "flex": null,
            "flex_flow": null,
            "grid_area": null,
            "grid_auto_columns": null,
            "grid_auto_flow": null,
            "grid_auto_rows": null,
            "grid_column": null,
            "grid_gap": null,
            "grid_row": null,
            "grid_template_areas": null,
            "grid_template_columns": null,
            "grid_template_rows": null,
            "height": null,
            "justify_content": null,
            "justify_items": null,
            "left": null,
            "margin": null,
            "max_height": null,
            "max_width": null,
            "min_height": null,
            "min_width": null,
            "object_fit": null,
            "object_position": null,
            "order": null,
            "overflow": null,
            "overflow_x": null,
            "overflow_y": null,
            "padding": null,
            "right": null,
            "top": null,
            "visibility": null,
            "width": null
          }
        },
        "906a7e8220f14175ade8634c73f7a03c": {
          "model_module": "@jupyter-widgets/controls",
          "model_name": "DescriptionStyleModel",
          "model_module_version": "1.5.0",
          "state": {
            "_model_module": "@jupyter-widgets/controls",
            "_model_module_version": "1.5.0",
            "_model_name": "DescriptionStyleModel",
            "_view_count": null,
            "_view_module": "@jupyter-widgets/base",
            "_view_module_version": "1.2.0",
            "_view_name": "StyleView",
            "description_width": ""
          }
        },
        "dba581a9ef9442d081e83d07b96e6a13": {
          "model_module": "@jupyter-widgets/base",
          "model_name": "LayoutModel",
          "model_module_version": "1.2.0",
          "state": {
            "_model_module": "@jupyter-widgets/base",
            "_model_module_version": "1.2.0",
            "_model_name": "LayoutModel",
            "_view_count": null,
            "_view_module": "@jupyter-widgets/base",
            "_view_module_version": "1.2.0",
            "_view_name": "LayoutView",
            "align_content": null,
            "align_items": null,
            "align_self": null,
            "border": null,
            "bottom": null,
            "display": null,
            "flex": null,
            "flex_flow": null,
            "grid_area": null,
            "grid_auto_columns": null,
            "grid_auto_flow": null,
            "grid_auto_rows": null,
            "grid_column": null,
            "grid_gap": null,
            "grid_row": null,
            "grid_template_areas": null,
            "grid_template_columns": null,
            "grid_template_rows": null,
            "height": null,
            "justify_content": null,
            "justify_items": null,
            "left": null,
            "margin": null,
            "max_height": null,
            "max_width": null,
            "min_height": null,
            "min_width": null,
            "object_fit": null,
            "object_position": null,
            "order": null,
            "overflow": null,
            "overflow_x": null,
            "overflow_y": null,
            "padding": null,
            "right": null,
            "top": null,
            "visibility": null,
            "width": null
          }
        },
        "ec0aba9a7a0243e2b14630af2a377fc5": {
          "model_module": "@jupyter-widgets/controls",
          "model_name": "ProgressStyleModel",
          "model_module_version": "1.5.0",
          "state": {
            "_model_module": "@jupyter-widgets/controls",
            "_model_module_version": "1.5.0",
            "_model_name": "ProgressStyleModel",
            "_view_count": null,
            "_view_module": "@jupyter-widgets/base",
            "_view_module_version": "1.2.0",
            "_view_name": "StyleView",
            "bar_color": null,
            "description_width": ""
          }
        },
        "6ecb8feb8ec9434db2e669455c6d86db": {
          "model_module": "@jupyter-widgets/base",
          "model_name": "LayoutModel",
          "model_module_version": "1.2.0",
          "state": {
            "_model_module": "@jupyter-widgets/base",
            "_model_module_version": "1.2.0",
            "_model_name": "LayoutModel",
            "_view_count": null,
            "_view_module": "@jupyter-widgets/base",
            "_view_module_version": "1.2.0",
            "_view_name": "LayoutView",
            "align_content": null,
            "align_items": null,
            "align_self": null,
            "border": null,
            "bottom": null,
            "display": null,
            "flex": null,
            "flex_flow": null,
            "grid_area": null,
            "grid_auto_columns": null,
            "grid_auto_flow": null,
            "grid_auto_rows": null,
            "grid_column": null,
            "grid_gap": null,
            "grid_row": null,
            "grid_template_areas": null,
            "grid_template_columns": null,
            "grid_template_rows": null,
            "height": null,
            "justify_content": null,
            "justify_items": null,
            "left": null,
            "margin": null,
            "max_height": null,
            "max_width": null,
            "min_height": null,
            "min_width": null,
            "object_fit": null,
            "object_position": null,
            "order": null,
            "overflow": null,
            "overflow_x": null,
            "overflow_y": null,
            "padding": null,
            "right": null,
            "top": null,
            "visibility": null,
            "width": null
          }
        },
        "3b1fd69fd6a8473da942aad66e572bce": {
          "model_module": "@jupyter-widgets/controls",
          "model_name": "DescriptionStyleModel",
          "model_module_version": "1.5.0",
          "state": {
            "_model_module": "@jupyter-widgets/controls",
            "_model_module_version": "1.5.0",
            "_model_name": "DescriptionStyleModel",
            "_view_count": null,
            "_view_module": "@jupyter-widgets/base",
            "_view_module_version": "1.2.0",
            "_view_name": "StyleView",
            "description_width": ""
          }
        },
        "d01961f4eeca4983a0b26a90d739fa04": {
          "model_module": "@jupyter-widgets/controls",
          "model_name": "HBoxModel",
          "model_module_version": "1.5.0",
          "state": {
            "_dom_classes": [],
            "_model_module": "@jupyter-widgets/controls",
            "_model_module_version": "1.5.0",
            "_model_name": "HBoxModel",
            "_view_count": null,
            "_view_module": "@jupyter-widgets/controls",
            "_view_module_version": "1.5.0",
            "_view_name": "HBoxView",
            "box_style": "",
            "children": [
              "IPY_MODEL_2726aee5759c4b71a628889961d016e8",
              "IPY_MODEL_b06ea49921be4f51848a6b9860d28ab1",
              "IPY_MODEL_c0d882fe6fbd4af59c9fb330c7397c23"
            ],
            "layout": "IPY_MODEL_8b0f4092da0c4377982908296710bfba"
          }
        },
        "2726aee5759c4b71a628889961d016e8": {
          "model_module": "@jupyter-widgets/controls",
          "model_name": "HTMLModel",
          "model_module_version": "1.5.0",
          "state": {
            "_dom_classes": [],
            "_model_module": "@jupyter-widgets/controls",
            "_model_module_version": "1.5.0",
            "_model_name": "HTMLModel",
            "_view_count": null,
            "_view_module": "@jupyter-widgets/controls",
            "_view_module_version": "1.5.0",
            "_view_name": "HTMLView",
            "description": "",
            "description_tooltip": null,
            "layout": "IPY_MODEL_8a4abe92315a40e8a27e6f0c31845497",
            "placeholder": "​",
            "style": "IPY_MODEL_dfc86d31b1cb46bd872db2429eab2494",
            "value": "100%"
          }
        },
        "b06ea49921be4f51848a6b9860d28ab1": {
          "model_module": "@jupyter-widgets/controls",
          "model_name": "FloatProgressModel",
          "model_module_version": "1.5.0",
          "state": {
            "_dom_classes": [],
            "_model_module": "@jupyter-widgets/controls",
            "_model_module_version": "1.5.0",
            "_model_name": "FloatProgressModel",
            "_view_count": null,
            "_view_module": "@jupyter-widgets/controls",
            "_view_module_version": "1.5.0",
            "_view_name": "ProgressView",
            "bar_style": "success",
            "description": "",
            "description_tooltip": null,
            "layout": "IPY_MODEL_83ad39d5d9684392a6bef5d781dcfc54",
            "max": 1846,
            "min": 0,
            "orientation": "horizontal",
            "style": "IPY_MODEL_dc506fa082c240d79306c25227ffbba1",
            "value": 1846
          }
        },
        "c0d882fe6fbd4af59c9fb330c7397c23": {
          "model_module": "@jupyter-widgets/controls",
          "model_name": "HTMLModel",
          "model_module_version": "1.5.0",
          "state": {
            "_dom_classes": [],
            "_model_module": "@jupyter-widgets/controls",
            "_model_module_version": "1.5.0",
            "_model_name": "HTMLModel",
            "_view_count": null,
            "_view_module": "@jupyter-widgets/controls",
            "_view_module_version": "1.5.0",
            "_view_name": "HTMLView",
            "description": "",
            "description_tooltip": null,
            "layout": "IPY_MODEL_c0e10085124d49f2b39544ef9ee3420f",
            "placeholder": "​",
            "style": "IPY_MODEL_89f6bcd0790c47c5b841fc466eac7cd5",
            "value": " 1846/1846 [00:05&lt;00:00, 445.71ex/s]"
          }
        },
        "8b0f4092da0c4377982908296710bfba": {
          "model_module": "@jupyter-widgets/base",
          "model_name": "LayoutModel",
          "model_module_version": "1.2.0",
          "state": {
            "_model_module": "@jupyter-widgets/base",
            "_model_module_version": "1.2.0",
            "_model_name": "LayoutModel",
            "_view_count": null,
            "_view_module": "@jupyter-widgets/base",
            "_view_module_version": "1.2.0",
            "_view_name": "LayoutView",
            "align_content": null,
            "align_items": null,
            "align_self": null,
            "border": null,
            "bottom": null,
            "display": null,
            "flex": null,
            "flex_flow": null,
            "grid_area": null,
            "grid_auto_columns": null,
            "grid_auto_flow": null,
            "grid_auto_rows": null,
            "grid_column": null,
            "grid_gap": null,
            "grid_row": null,
            "grid_template_areas": null,
            "grid_template_columns": null,
            "grid_template_rows": null,
            "height": null,
            "justify_content": null,
            "justify_items": null,
            "left": null,
            "margin": null,
            "max_height": null,
            "max_width": null,
            "min_height": null,
            "min_width": null,
            "object_fit": null,
            "object_position": null,
            "order": null,
            "overflow": null,
            "overflow_x": null,
            "overflow_y": null,
            "padding": null,
            "right": null,
            "top": null,
            "visibility": null,
            "width": null
          }
        },
        "8a4abe92315a40e8a27e6f0c31845497": {
          "model_module": "@jupyter-widgets/base",
          "model_name": "LayoutModel",
          "model_module_version": "1.2.0",
          "state": {
            "_model_module": "@jupyter-widgets/base",
            "_model_module_version": "1.2.0",
            "_model_name": "LayoutModel",
            "_view_count": null,
            "_view_module": "@jupyter-widgets/base",
            "_view_module_version": "1.2.0",
            "_view_name": "LayoutView",
            "align_content": null,
            "align_items": null,
            "align_self": null,
            "border": null,
            "bottom": null,
            "display": null,
            "flex": null,
            "flex_flow": null,
            "grid_area": null,
            "grid_auto_columns": null,
            "grid_auto_flow": null,
            "grid_auto_rows": null,
            "grid_column": null,
            "grid_gap": null,
            "grid_row": null,
            "grid_template_areas": null,
            "grid_template_columns": null,
            "grid_template_rows": null,
            "height": null,
            "justify_content": null,
            "justify_items": null,
            "left": null,
            "margin": null,
            "max_height": null,
            "max_width": null,
            "min_height": null,
            "min_width": null,
            "object_fit": null,
            "object_position": null,
            "order": null,
            "overflow": null,
            "overflow_x": null,
            "overflow_y": null,
            "padding": null,
            "right": null,
            "top": null,
            "visibility": null,
            "width": null
          }
        },
        "dfc86d31b1cb46bd872db2429eab2494": {
          "model_module": "@jupyter-widgets/controls",
          "model_name": "DescriptionStyleModel",
          "model_module_version": "1.5.0",
          "state": {
            "_model_module": "@jupyter-widgets/controls",
            "_model_module_version": "1.5.0",
            "_model_name": "DescriptionStyleModel",
            "_view_count": null,
            "_view_module": "@jupyter-widgets/base",
            "_view_module_version": "1.2.0",
            "_view_name": "StyleView",
            "description_width": ""
          }
        },
        "83ad39d5d9684392a6bef5d781dcfc54": {
          "model_module": "@jupyter-widgets/base",
          "model_name": "LayoutModel",
          "model_module_version": "1.2.0",
          "state": {
            "_model_module": "@jupyter-widgets/base",
            "_model_module_version": "1.2.0",
            "_model_name": "LayoutModel",
            "_view_count": null,
            "_view_module": "@jupyter-widgets/base",
            "_view_module_version": "1.2.0",
            "_view_name": "LayoutView",
            "align_content": null,
            "align_items": null,
            "align_self": null,
            "border": null,
            "bottom": null,
            "display": null,
            "flex": null,
            "flex_flow": null,
            "grid_area": null,
            "grid_auto_columns": null,
            "grid_auto_flow": null,
            "grid_auto_rows": null,
            "grid_column": null,
            "grid_gap": null,
            "grid_row": null,
            "grid_template_areas": null,
            "grid_template_columns": null,
            "grid_template_rows": null,
            "height": null,
            "justify_content": null,
            "justify_items": null,
            "left": null,
            "margin": null,
            "max_height": null,
            "max_width": null,
            "min_height": null,
            "min_width": null,
            "object_fit": null,
            "object_position": null,
            "order": null,
            "overflow": null,
            "overflow_x": null,
            "overflow_y": null,
            "padding": null,
            "right": null,
            "top": null,
            "visibility": null,
            "width": null
          }
        },
        "dc506fa082c240d79306c25227ffbba1": {
          "model_module": "@jupyter-widgets/controls",
          "model_name": "ProgressStyleModel",
          "model_module_version": "1.5.0",
          "state": {
            "_model_module": "@jupyter-widgets/controls",
            "_model_module_version": "1.5.0",
            "_model_name": "ProgressStyleModel",
            "_view_count": null,
            "_view_module": "@jupyter-widgets/base",
            "_view_module_version": "1.2.0",
            "_view_name": "StyleView",
            "bar_color": null,
            "description_width": ""
          }
        },
        "c0e10085124d49f2b39544ef9ee3420f": {
          "model_module": "@jupyter-widgets/base",
          "model_name": "LayoutModel",
          "model_module_version": "1.2.0",
          "state": {
            "_model_module": "@jupyter-widgets/base",
            "_model_module_version": "1.2.0",
            "_model_name": "LayoutModel",
            "_view_count": null,
            "_view_module": "@jupyter-widgets/base",
            "_view_module_version": "1.2.0",
            "_view_name": "LayoutView",
            "align_content": null,
            "align_items": null,
            "align_self": null,
            "border": null,
            "bottom": null,
            "display": null,
            "flex": null,
            "flex_flow": null,
            "grid_area": null,
            "grid_auto_columns": null,
            "grid_auto_flow": null,
            "grid_auto_rows": null,
            "grid_column": null,
            "grid_gap": null,
            "grid_row": null,
            "grid_template_areas": null,
            "grid_template_columns": null,
            "grid_template_rows": null,
            "height": null,
            "justify_content": null,
            "justify_items": null,
            "left": null,
            "margin": null,
            "max_height": null,
            "max_width": null,
            "min_height": null,
            "min_width": null,
            "object_fit": null,
            "object_position": null,
            "order": null,
            "overflow": null,
            "overflow_x": null,
            "overflow_y": null,
            "padding": null,
            "right": null,
            "top": null,
            "visibility": null,
            "width": null
          }
        },
        "89f6bcd0790c47c5b841fc466eac7cd5": {
          "model_module": "@jupyter-widgets/controls",
          "model_name": "DescriptionStyleModel",
          "model_module_version": "1.5.0",
          "state": {
            "_model_module": "@jupyter-widgets/controls",
            "_model_module_version": "1.5.0",
            "_model_name": "DescriptionStyleModel",
            "_view_count": null,
            "_view_module": "@jupyter-widgets/base",
            "_view_module_version": "1.2.0",
            "_view_name": "StyleView",
            "description_width": ""
          }
        }
      }
    }
  },
  "nbformat": 4,
  "nbformat_minor": 0
}